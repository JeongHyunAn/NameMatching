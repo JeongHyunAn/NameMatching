{
 "cells": [
  {
   "cell_type": "code",
   "execution_count": null,
   "metadata": {},
   "outputs": [],
   "source": [
    "import sys\n",
    "from csv import reader\n",
    "\n",
    "test_file = sys.argv[1] # Read from command line\n",
    "output = open('dist_female_first.csv', 'w')\n",
    "test_lines = open('dist.female.first.txt' , 'r')\n",
    "\n",
    "for line in test_lines:\n",
    "    line = line.strip() # Remove newline character\n",
    "    [name, prop, cum_prop, rank] = line.split()\n",
    "    #print(first_person)\n",
    "    \n",
    "    output.write (name + ',' + prop + ',' + cum_prop + ',' + rank + '\\n')\n",
    "output.close"
   ]
  },
  {
   "cell_type": "code",
   "execution_count": null,
   "metadata": {},
   "outputs": [],
   "source": [
    "import sys\n",
    "from csv import reader\n",
    "\n",
    "test_file = sys.argv[1] # Read from command line\n",
    "output = open('o_names.csv', 'w')\n",
    "test_lines = open('o_names_full.csv' , 'r')\n",
    "\n",
    "for line in test_lines:\n",
    "    line = line.strip() # Remove newline character\n",
    "    line = line.split()\n",
    "    \n",
    "    output.write (line[-1] + '\\n')\n",
    "output.close"
   ]
  },
  {
   "cell_type": "code",
   "execution_count": 2,
   "metadata": {},
   "outputs": [
    {
     "name": "stdout",
     "output_type": "stream",
     "text": [
      "73\n",
      "300 80 620 1000\n"
     ]
    }
   ],
   "source": [
    "with open('surnames.csv', 'r') as s:\n",
    "    surnames = s.read().splitlines()\n",
    "    \n",
    "with open('names.csv', 'r') as f:\n",
    "    t_names = f.read().splitlines()\n",
    "    \n",
    "with open('o_names.csv', 'r') as o:\n",
    "    o_names = o.read().splitlines()\n",
    "\n",
    "count = 0\n",
    "\n",
    "for i in range(len(surnames)):\n",
    "    for j in range(len(o_names)):\n",
    "        if surnames[i] == o_names[j]:\n",
    "            count += 1\n",
    "\n",
    "print(count)\n",
    "print(len(surnames), len(t_names), len(o_names), len(surnames) + len(t_names) + len(o_names))"
   ]
  }
 ],
 "metadata": {
  "kernelspec": {
   "display_name": "Python 3",
   "language": "python",
   "name": "python3"
  },
  "language_info": {
   "codemirror_mode": {
    "name": "ipython",
    "version": 3
   },
   "file_extension": ".py",
   "mimetype": "text/x-python",
   "name": "python",
   "nbconvert_exporter": "python",
   "pygments_lexer": "ipython3",
   "version": "3.6.4"
  }
 },
 "nbformat": 4,
 "nbformat_minor": 4
}
